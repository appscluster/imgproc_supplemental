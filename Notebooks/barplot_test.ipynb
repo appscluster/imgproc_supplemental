{
 "metadata": {
  "kernelspec": {
   "codemirror_mode": {
    "name": "ipython",
    "version": 2
   },
   "display_name": "IPython (Python 2)",
   "language": "python",
   "name": "python2"
  },
  "name": "",
  "signature": "sha256:e82f4ba7935014fe97bd6cdf7464b04d9e81587f92d45cff774df6687bfa0578"
 },
 "nbformat": 3,
 "nbformat_minor": 0,
 "worksheets": [
  {
   "cells": [
    {
     "cell_type": "code",
     "collapsed": false,
     "input": [
      "#%run NBCONFIG.ipynb\n",
      "%pylab"
     ],
     "language": "python",
     "metadata": {},
     "outputs": [
      {
       "output_type": "stream",
       "stream": "stdout",
       "text": [
        "Using matplotlib backend: WXAgg\n",
        "Populating the interactive namespace from numpy and matplotlib\n"
       ]
      }
     ],
     "prompt_number": 76
    },
    {
     "cell_type": "code",
     "collapsed": false,
     "input": [
      "TEXTSIZE = 15\n",
      "LABELSIZE = 15\n",
      "LEGENDSIZE = 11"
     ],
     "language": "python",
     "metadata": {},
     "outputs": [],
     "prompt_number": 77
    },
    {
     "cell_type": "code",
     "collapsed": false,
     "input": [
      "import matplotlib.pyplot as plt\n",
      "from pyuvvis.plotting.plot_utils import hide_axis\n",
      "\n",
      "PNAMES = ['Single', 'Dimer', 'Trimer', 'Tetramer']\n",
      "RNAMES = ['Partition','Ilastik','Ilastik Optimal']\n",
      "WIDTH = 0.5 # Width of single bar\n",
      "GAP = 1.5      #Spacing between groups of bars\n",
      "ALPHA = 1.0\n",
      "HATCHES = ['//', '.', 'o']\n",
      "COLORS = ['r', 'g', (1,1,0), 'magenta']\n",
      "ARROWS = False\n",
      "\n",
      "\n",
      "############# SINGLES, DIMERS, TRIMERS, TETRAMERS ######\n",
      "PARTITION = [0, 0, 53, -53]\n",
      "ILASTIK_1 = [1, -1, 14, -14] # REAL NUMBERS\n",
      "ILASTIK_2 = [-4,2,6,-6] #four singles lost to 2 dimers\n",
      "\n",
      "ALL = [PARTITION, ILASTIK_1, ILASTIK_2]\n",
      "\n",
      "xstart = 0\n",
      "for idx, barheights in enumerate(ALL):\n",
      "    xpoints = [xstart + n*WIDTH for n in range(0,4)]\n",
      "    plt.bar(xpoints, barheights, width=WIDTH, color=COLORS,\n",
      "            hatch=HATCHES[idx], \n",
      "            alpha=ALPHA)\n",
      "    xstart = xpoints[-1] + GAP\n",
      "\n",
      "\n",
      "# COLOR LEGEND\n",
      "proxy = [plt.Rectangle((0,0),1,1, color = color) for color in COLORS]\n",
      "plt.legend(proxy, PNAMES, ncol=2, fontsize=LEGENDSIZE, loc='upper right')    \n",
      " \n",
      "# HATCH LEGEND\n",
      "#proxy = [plt.Rectangle((0,0),1,5, hatch = hatch, alpha=.5, color='tan') for hatch in HATCHES]\n",
      "#plt.legend(proxy, RNAMES, ncol=2, fontsize=20, loc='upper right')   \n",
      "\n",
      "if ARROWS:    \n",
      "    plt.annotate(RNAMES[0], xy=(xpoints[2], 1), xytext=(xpoints[2]+.5, 20),\n",
      "         arrowprops=dict(facecolor='black', width = 1, shrink=0.05),\n",
      "        )\n",
      "\n",
      "\n",
      "plt.text(1.75,10, RNAMES[0], size=TEXTSIZE)\n",
      "plt.text(3.75,17, RNAMES[1], size=TEXTSIZE)\n",
      "plt.text(5.7,-13, RNAMES[2],size=TEXTSIZE)\n",
      "\n",
      "\n",
      "\n",
      "plt.grid()\n",
      "plt.minorticks_on()\n",
      "plt.hlines(0, 0, xstart)\n",
      "plt.xlim(1,xpoints[-1] + WIDTH)\n",
      "plt.ylim(min(PARTITION), max(PARTITION))\n",
      "ax = plt.gca()\n",
      "hide_axis(ax, axis='x', hide_everything=True)\n",
      "#plt.ylim(-25, 25)\n",
      "ax.tick_params(right=\"off\")\n",
      "\n",
      "# the OP way (better):\n",
      "ax.tick_params(axis='both', direction='out')\n",
      "ax.get_xaxis().tick_bottom()   # remove unneeded ticks \n",
      "ax.get_yaxis().tick_left()\n",
      "\n",
      "plt.ylabel('Mislabeled particles', size=LABELSIZE)\n",
      "plt.tick_params(bottom='off',labelbottom='off')\n",
      "plt.tick_params(right='off')\n",
      "plt.savefig('/home/glue/Desktop/testme.png')\n",
      "plt.show()"
     ],
     "language": "python",
     "metadata": {},
     "outputs": [],
     "prompt_number": 80
    },
    {
     "cell_type": "markdown",
     "metadata": {},
     "source": [
      "Matplotlib hatches: http://matplotlib.org/examples/pylab_examples/hatch_demo.html\n",
      "Diagonal Labels: http://stackoverflow.com/questions/17827748/matplotilb-bar-chart-diagonal-tick-labels"
     ]
    }
   ],
   "metadata": {}
  }
 ]
}
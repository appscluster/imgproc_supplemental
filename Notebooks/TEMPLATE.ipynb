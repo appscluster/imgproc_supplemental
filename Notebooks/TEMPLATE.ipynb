{
 "metadata": {
  "name": "TEMPLATE.ipynb"
 },
 "nbformat": 3,
 "nbformat_minor": 0,
 "worksheets": [
  {
   "cells": [
    {
     "cell_type": "heading",
     "level": 3,
     "metadata": {},
     "source": [
      "Imports/notebook settings"
     ]
    },
    {
     "cell_type": "code",
     "collapsed": false,
     "input": [
      "### FIGURE SETTINGS ###\n",
      "plt.rcParams['figure.figsize'] = 12, 8\n",
      "%config InlineBackend.figure_format = 'svg' #svg backend\n",
      "\n",
      "### IMPORTS ###\n",
      "\n",
      "# Scikit Image\n",
      "from skimage.io import imread\n",
      "\n",
      "# Third party\n",
      "import numpy as np\n",
      "\n",
      "# Local imports\n",
      "from utilities import zoomshow, crop, zoom\n",
      "from scale import Converter"
     ],
     "language": "python",
     "metadata": {},
     "outputs": [],
     "prompt_number": 2
    },
    {
     "cell_type": "heading",
     "level": 3,
     "metadata": {},
     "source": [
      "Build a scale to convert nm to pixels and vice versa using 2.94 nm/pixels"
     ]
    },
    {
     "cell_type": "markdown",
     "metadata": {},
     "source": [
      "We use a custom **Converter** class to facilitate easy converstion between units of pixels and length (nanometers)."
     ]
    },
    {
     "cell_type": "code",
     "collapsed": false,
     "input": [
      "nm2pix = Converter(unit='nm', scale='2.94')\n",
      "nm2pix.show()\n",
      "print '------------------'\n",
      "#Use invert() method to construct inverse scale\n",
      "pix2nm = nm2pix.invert()\n",
      "pix2nm.show()"
     ],
     "language": "python",
     "metadata": {},
     "outputs": [
      {
       "output_type": "stream",
       "stream": "stdout",
       "text": [
        "Converts pixel to nm:\n",
        "    baseunit           pixel\n",
        "    unit               nm\n",
        "    scale              2.94 (nm / pixel)\n",
        "------------------\n",
        "Converts nm to pixel:\n",
        "    baseunit           nm\n",
        "    unit               pixel\n",
        "    scale              0.34 (pixel / nm)\n"
       ]
      }
     ],
     "prompt_number": 6
    },
    {
     "cell_type": "heading",
     "level": 2,
     "metadata": {},
     "source": [
      "Section"
     ]
    },
    {
     "cell_type": "markdown",
     "metadata": {},
     "source": [
      "General *description* of this section"
     ]
    },
    {
     "cell_type": "heading",
     "level": 3,
     "metadata": {},
     "source": [
      "Import image; construct scale"
     ]
    },
    {
     "cell_type": "code",
     "collapsed": false,
     "input": [],
     "language": "python",
     "metadata": {},
     "outputs": [],
     "prompt_number": 3
    },
    {
     "cell_type": "markdown",
     "metadata": {},
     "source": [
      "<Descriptive overview>"
     ]
    },
    {
     "cell_type": "heading",
     "level": 3,
     "metadata": {},
     "source": [
      "Sub Section"
     ]
    }
   ],
   "metadata": {}
  }
 ]
}
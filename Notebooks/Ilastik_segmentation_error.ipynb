{
 "metadata": {
  "name": "",
  "signature": "sha256:826c501892aa877c2003b6735530b7786414502646ab9d43acba60cdd55c89e0"
 },
 "nbformat": 3,
 "nbformat_minor": 0,
 "worksheets": [
  {
   "cells": [
    {
     "cell_type": "markdown",
     "metadata": {},
     "source": [
      "-- <font color='gray'>**Evelyn Liu**</font> \n",
      "\n",
      "-- <font color='gray'>**3/22/14**</font> \n",
      "\n",
      "-- <font color='gray'>**The George Washington University**</font> "
     ]
    },
    {
     "cell_type": "heading",
     "level": 1,
     "metadata": {},
     "source": [
      "Quantifying Segmentation Error Between Ilastik Binary Image and Original Test Image"
     ]
    },
    {
     "cell_type": "heading",
     "level": 3,
     "metadata": {},
     "source": [
      "Objective"
     ]
    },
    {
     "cell_type": "markdown",
     "metadata": {},
     "source": [
      "We compare the Ilastik segmented image with the original binary test image, and quantify the error."
     ]
    },
    {
     "cell_type": "heading",
     "level": 3,
     "metadata": {},
     "source": [
      "Environment Setup"
     ]
    },
    {
     "cell_type": "markdown",
     "metadata": {},
     "source": [
      "Configure notebook style (see NBCONFIG.ipynb), add imports and paths.  The **%run** magic used below <font color='red'>**requires IPython 2.0 or higher.**</font>"
     ]
    },
    {
     "cell_type": "code",
     "collapsed": false,
     "input": [
      "%run NBCONFIG.ipynb\n",
      "\n",
      "from skimage.color import rgb2gray\n",
      "from skimage.morphology import label\n",
      "from pyparty import Canvas, MultiCanvas \n",
      "from pyparty.plots import showim, multishow, splot\n",
      "from _shared import SEM_test_images, load_test_image\n",
      "import os.path as op\n",
      "from skimage import io "
     ],
     "language": "python",
     "metadata": {},
     "outputs": [
      {
       "html": [
        "<style>\n",
        "#notebook_panel { /* main background */\n",
        "    background: #333;\n",
        "    color: #f6f6f6;\n",
        "}\n",
        "\n",
        "\n",
        "div #notebook { /* centre the content */\n",
        "    background: #FFFFF0;  /* IVORY */\n",
        "    color: #333;\n",
        "    width: 115ex;\n",
        "    margin: auto;\n",
        "    padding-left: 1em;\n",
        "    padding-right: 1em;\n",
        "    padding-top: 2ex;\n",
        "}\n",
        "\n",
        "\n",
        "div.text_cell_render {  /*Markdown cells */\n",
        "    font-family: Computer Modern Roman;\n",
        "}\n",
        "\n",
        "/* remove big margins around title */\n",
        "div.text_cell_render.border-box-sizing.rendered_html {\n",
        "    margin: 0; /*What is this */\n",
        "    padding: 0.05; /*Spacing between cells*/ \n",
        "    margin-left: 1ex;\n",
        "}\n",
        "div.cell.text_cell.border-box-sizing {\n",
        "    margin: 0;\n",
        "    padding: 0.05; \n",
        "}\n",
        "\n",
        ".rendered_html h1 {\n",
        "    margin: 0;\n",
        "    padding: 0;\n",
        "}\n",
        ".rendered_html h2 {\n",
        "    margin: 0;\n",
        "    padding: 0;\n",
        "}\n",
        ".rendered_html h3 {\n",
        "    margin: 0;\n",
        "    padding: 0;\n",
        "}\n",
        "\n",
        "/* Width of all cells */\n",
        "div.cell { /* set cell width to about 80 chars */\n",
        "    width: 55em;\n",
        "\n",
        "}\n",
        "\n",
        "/* Set font of coding cells (DONT KNOW WHY BUT NEED THIS) */\n",
        ".CodeMirror {\n",
        "    /* Preferred font is bold sawasdee, but here are backups */\n",
        "    font-family: \"Sawasdee\", \"Lucida Sans Typewriter\",\"Lucida Typewriter\", \n",
        "         \"Lucida Typewriter\", \"Courier New\", Courier, monospace;;\n",
        "    font-size: normal;\n",
        "    font-weight: 700; \n",
        "}\n",
        "\n",
        "div.cell.code_cell { /* Total code cell, in and out */\n",
        "    background: #FFFFF0;\n",
        "    border: none;\n",
        "    padding-top: 1ex;\n",
        "}\n",
        "\n",
        "div.input_area { /* box around box with code ??? */\n",
        "    border: none;\n",
        "    background: #f5f5f5;\n",
        "    border: 1px solid #fff;\n",
        "    border-radius: 10px;\n",
        "    padding-top: 0.5ex;\n",
        "    padding-bottom: 0.5ex;\n",
        "    padding-left: 0.5em;\n",
        "}\n",
        "\n",
        "div.input { /* box with code */\n",
        "}\n",
        "\n",
        "\n",
        "div.prompt { /* remove In/Out prompt */\n",
        "    display: none;\n",
        "}\n",
        "\n",
        "div.output_subarea { /* remove margin in front of output */\n",
        "    border: none;\n",
        "}\n",
        "\n",
        "div.cell.border-box-sizing.code_cell.running { \n",
        "    /* draw red dotted border around running cells */\n",
        "    border: 3px dotted #f33;\n",
        "}\n",
        "\n",
        "/* header colours and fonts */\n",
        "h1 { color: #444; }\n",
        "h2 { color: #444; font-style: oblique}\n",
        "h3 { color: #0000A0; font-weight: normal}\n",
        "h4 { color: #444; font-weight: oblique; font-size: large}\n",
        "\n",
        "\n",
        "</style>"
       ],
       "metadata": {},
       "output_type": "display_data",
       "text": [
        "<IPython.core.display.HTML at 0x12a5db5d0>"
       ]
      }
     ],
     "prompt_number": 181
    },
    {
     "cell_type": "heading",
     "level": 4,
     "metadata": {},
     "source": [
      "Step 1: Import original binary image and related statistics"
     ]
    },
    {
     "cell_type": "markdown",
     "metadata": {},
     "source": [
      "Import the original image. I ran the test_data_V1.ipynb and copied the count/area results, which are netcount and netarea arrays. It would be easier if we could import test image in Canvas type. \n",
      "**Qs: Do we have binary test image? Or could we import test image in Canvas???**"
     ]
    },
    {
     "cell_type": "code",
     "collapsed": false,
     "input": [
      "basic, smooth, noisy = SEM_test_images()\n",
      "\n",
      "netcount = numpy.array([586, 293, 146, 145])\n",
      "netarea = numpy.array([406910.0, 402084.0, 298197.0, 388197.0])\n",
      "NAMES = ('singles', 'dimers', 'trimers', 'clusters')"
     ],
     "language": "python",
     "metadata": {},
     "outputs": [],
     "prompt_number": 182
    },
    {
     "cell_type": "heading",
     "level": 4,
     "metadata": {},
     "source": [
      "Step 2: Import segmented image and count particles in four species"
     ]
    },
    {
     "cell_type": "code",
     "collapsed": false,
     "input": [
      "def load_ilastik(basename):\n",
      "    \"\"\" Lead image from ILastik folder\"\"\"\n",
      "    relpath = 'Test_Data/Ilastik_Analysis'\n",
      "    return load_test_image(basename, relpath)\n",
      "\n",
      "shape_1 = load_ilastik('SEM_test_nosmooth_gray.png')\n",
      "colorshape_1 = load_ilastik('SEM_test_nosmooth.png')\n",
      "\n",
      "shape_2 = load_ilastik('SEM_test_smooth_gray.png')\n",
      "colorshape_2 = load_ilastik('SEM_test_smooth.png')\n",
      "\n",
      "shape_3 = load_ilastik('SEM_test_noise_gray.png')\n",
      "colorshape_3 = load_ilastik('SEM_test_noise.png')"
     ],
     "language": "python",
     "metadata": {},
     "outputs": [],
     "prompt_number": 183
    },
    {
     "cell_type": "heading",
     "level": 4,
     "metadata": {},
     "source": [
      "Step 3: Quantify the error"
     ]
    },
    {
     "cell_type": "markdown",
     "metadata": {},
     "source": [
      "Define the function calculating the difference between particle count/area of segmented image and theoretical count/area value when generating test image. Its output is an array of count/area error of 4 species: singles, dimers, trimers and clusters."
     ]
    },
    {
     "cell_type": "code",
     "collapsed": false,
     "input": [
      "def err(mc, count, area, attr):     \n",
      "    #mc is the MultiCanvas of segmented image\n",
      "    #count and area are used to genreate test images which are theoretical values\n",
      "    #attr is given to calculate err of count/area\n",
      "    \n",
      "    if attr == 'count':\n",
      "       err = count - numpy.array([len(x) for x in mc])\n",
      "       return err\n",
      "    \n",
      "    elif attr == 'area':\n",
      "         err_area = area - numpy.array([x.area.sum() for x in mc])\n",
      "         return err_area"
     ],
     "language": "python",
     "metadata": {},
     "outputs": [],
     "prompt_number": 192
    },
    {
     "cell_type": "markdown",
     "metadata": {},
     "source": [
      "Identify these four species from the segmented image and save them in MultiCanvas. According to count/area info in MultiCanvas, we quantify the error. err_XX represents for count_theoretical-count_MultiCanvas."
     ]
    },
    {
     "cell_type": "code",
     "collapsed": false,
     "input": [
      "mc_nosmooth = MultiCanvas.from_labeled(shape_1, *NAMES, ignore='black')\n",
      "print mc_nosmooth\n",
      "\n",
      "err_nosmooth = list(zip(NAMES, err(mc_nosmooth, netcount, netarea, 'count')))\n",
      "\n",
      "print \"Count error of SEM_test_nosmooth:\"\n",
      "print err_nosmooth"
     ],
     "language": "python",
     "metadata": {},
     "outputs": [
      {
       "output_type": "stream",
       "stream": "stdout",
       "text": [
        "MultiCanvas (0x120e17bf0): \n",
        "  singles   -  Canvas (0x1274f55f0) : 3072 X 2304 : 586 particles\n",
        "  dimers    -  Canvas (0x12374eef0) : 3072 X 2304 : 273 particles\n",
        "  trimers   -  Canvas (0x120e17770) : 3072 X 2304 : 143 particles\n",
        "  clusters  -  Canvas (0x120e17a10) : 3072 X 2304 : 170 particles\n",
        "Count error of SEM_test_nosmooth:\n",
        "[('singles', 0), ('dimers', 20), ('trimers', 3), ('clusters', -25)]\n"
       ]
      }
     ],
     "prompt_number": 193
    },
    {
     "cell_type": "code",
     "collapsed": false,
     "input": [
      "mc_smooth = MultiCanvas.from_labeled(shape_2, *NAMES, ignore='black')\n",
      "print mc_smooth\n",
      "\n",
      "err_smooth = list(zip(NAMES, err(mc_smooth, netcount, netarea, 'count')));\n",
      "\n",
      "print \"Count error of SEM_test_smooth:\"\n",
      "print err_smooth"
     ],
     "language": "python",
     "metadata": {},
     "outputs": [
      {
       "output_type": "stream",
       "stream": "stdout",
       "text": [
        "MultiCanvas (0x1392a3350): \n",
        "  singles   -  Canvas (0x12374eb90) : 3072 X 2304 : 581 particles\n",
        "  dimers    -  Canvas (0x1392a3170) : 3072 X 2304 : 287 particles\n",
        "  trimers   -  Canvas (0x1392a30b0) : 3072 X 2304 : 135 particles\n",
        "  clusters  -  Canvas (0x1392a3230) : 3072 X 2304 : 167 particles\n",
        "Count error of SEM_test_smooth:\n",
        "[('singles', 5), ('dimers', 6), ('trimers', 11), ('clusters', -22)]\n"
       ]
      }
     ],
     "prompt_number": 194
    },
    {
     "cell_type": "code",
     "collapsed": false,
     "input": [
      "mc_noise = MultiCanvas.from_labeled(shape_3, *NAMES, ignore='black')\n",
      "print mc_noise\n",
      "\n",
      "err_noise = list(zip(NAMES, err(mc_noise, netcount, netarea, 'count')));\n",
      "\n",
      "print \"Count error of SEM_test_noise:\"\n",
      "print err_noise"
     ],
     "language": "python",
     "metadata": {},
     "outputs": [
      {
       "output_type": "stream",
       "stream": "stdout",
       "text": [
        "MultiCanvas (0x172cb12f0): \n",
        "  singles   -  Canvas (0x139f6d7d0) : 3072 X 2304 : 583 particles\n",
        "  dimers    -  Canvas (0x13df2ae90) : 3072 X 2304 : 295 particles\n",
        "  trimers   -  Canvas (0x13fb14a10) : 3072 X 2304 : 158 particles\n",
        "  clusters  -  Canvas (0x172cb1110) : 3072 X 2304 : 134 particles\n",
        "Count error of SEM_test_noise:\n",
        "[('singles', 3), ('dimers', -2), ('trimers', -12), ('clusters', 11)]\n"
       ]
      }
     ],
     "prompt_number": 195
    },
    {
     "cell_type": "heading",
     "level": 3,
     "metadata": {},
     "source": [
      "References"
     ]
    },
    {
     "cell_type": "markdown",
     "metadata": {},
     "source": [
      "- [1] : "
     ]
    },
    {
     "cell_type": "heading",
     "level": 3,
     "metadata": {},
     "source": [
      "Related"
     ]
    },
    {
     "cell_type": "markdown",
     "metadata": {},
     "source": [
      "- test_data_V1.ipynb http://nbviewer.ipython.org/github/hugadams/pyparty/blob/master/examples/Notebooks/test_data_V1.ipynb\n",
      "- testdata_characterization.ipynb\n",
      "http://nbviewer.ipython.org/github/hugadams/imgproc_supplemental/blob/master/Notebooks/testdata_characterization.ipynb"
     ]
    },
    {
     "cell_type": "heading",
     "level": 3,
     "metadata": {},
     "source": [
      "Redistribution"
     ]
    },
    {
     "cell_type": "markdown",
     "metadata": {},
     "source": [
      "This notebook is free for redistribution.  If referencing, please cite as:\n",
      "\n",
      "- Hughes, A. (2012). [A Computational Framework for Plasmonic Nanobiosensing](https://www.researchgate.net/publication/236672995_A_Computational_Framework_for_Plasmonic_Nanobiosensing).  Python in Science Conference [SCIPY]. "
     ]
    }
   ],
   "metadata": {}
  }
 ]
}
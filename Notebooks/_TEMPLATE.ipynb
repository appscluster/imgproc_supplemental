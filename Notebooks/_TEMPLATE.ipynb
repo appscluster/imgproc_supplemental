{
 "metadata": {
  "name": "",
  "signature": "sha256:75f6d41156d513aafab9cea450394530650c5d4c69ef4596939ac9449f91ea68"
 },
 "nbformat": 3,
 "nbformat_minor": 0,
 "worksheets": [
  {
   "cells": [
    {
     "cell_type": "markdown",
     "metadata": {},
     "source": [
      "- *Adam Hughes*\n",
      "- **::DATE::**\n",
      "- *George Washington University*"
     ]
    },
    {
     "cell_type": "heading",
     "level": 1,
     "metadata": {},
     "source": [
      "TITLE"
     ]
    },
    {
     "cell_type": "heading",
     "level": 3,
     "metadata": {},
     "source": [
      "<font color='purple'>Objective</font>"
     ]
    },
    {
     "cell_type": "markdown",
     "metadata": {},
     "source": [
      "::**DESCRIPTION OF OBJECTIVE**::"
     ]
    },
    {
     "cell_type": "heading",
     "level": 3,
     "metadata": {},
     "source": [
      "<font color='purple'>Environment Setup</font>"
     ]
    },
    {
     "cell_type": "markdown",
     "metadata": {},
     "source": [
      "Configure notebook style (see NBCONFIG.ipynb), add imports and paths.  The **%run** magic used below <font color='red'>**requires IPython 2.0 or higher!**</font>"
     ]
    },
    {
     "cell_type": "code",
     "collapsed": false,
     "input": [
      "%run NBCONFIG.ipynb\n",
      "\n",
      "import os.path as op\n",
      "def digdir(path):\n",
      "    \"\"\" Set relative path to digitization folder to use files/images therein\"\"\"\n",
      "    return op.join( '../images/Digitization/', path)"
     ],
     "language": "python",
     "metadata": {},
     "outputs": [
      {
       "html": [
        "<style>\n",
        "#notebook_panel { /* main background */\n",
        "    background: #333;\n",
        "    color: #f6f6f6;\n",
        "}\n",
        "\n",
        "\n",
        "div #notebook { /* centre the content */\n",
        "    background: #fff;\n",
        "    color: #333;\n",
        "    width: 115ex;\n",
        "    margin: auto;\n",
        "    padding-left: 1em;\n",
        "    padding-right: 1em;\n",
        "    padding-top: 2ex;\n",
        "}\n",
        "\n",
        "/* remove big margins around title */\n",
        "div.text_cell_render.border-box-sizing.rendered_html {\n",
        "    margin: 0;\n",
        "    padding: 0; \n",
        "    margin-left: 1ex;\n",
        "}\n",
        "div.cell.text_cell.border-box-sizing {\n",
        "    margin: 0;\n",
        "    padding: 0; \n",
        "}\n",
        ".rendered_html h1 {\n",
        "    margin: 0;\n",
        "    padding: 0;\n",
        "}\n",
        ".rendered_html h2 {\n",
        "    margin: 0;\n",
        "    padding: 0;\n",
        "}\n",
        ".rendered_html h3 {\n",
        "    margin: 0;\n",
        "    padding: 0;\n",
        "}\n",
        "\n",
        "div.cell { /* set cell width to about 80 chars */\n",
        "    width: 55em;\n",
        "}\n",
        "\n",
        "div.cell.code_cell { /* area that contains code + output */\n",
        "    background: #fff;\n",
        "    border: none;\n",
        "    border-radius: 10px;\n",
        "    padding-top: 1ex;\n",
        "}\n",
        "\n",
        "div.input_area { /* box around box with code */\n",
        "    border: none;\n",
        "    background: #f5f5f5;\n",
        "    border: 1px solid #ccc;\n",
        "    border-radius: 10px;\n",
        "    padding-top: 0.5ex;\n",
        "    padding-bottom: 0.5ex;\n",
        "    padding-left: 0.5em;\n",
        "}\n",
        "\n",
        "div.input { /* box with code */\n",
        "}\n",
        "\n",
        "div.CodeMirror { /* code font */\n",
        "    font-family: \"Inconsolata-dz\", monospace;\n",
        "    font-size: 10pt;\n",
        "}\n",
        "\n",
        "div.prompt { /* remove In/Out prompt */\n",
        "    display: none;\n",
        "}\n",
        "\n",
        "div.output_subarea { /* remove margin in front of output */\n",
        "    border: none;\n",
        "}\n",
        "\n",
        "div.cell.border-box-sizing.code_cell.running { \n",
        "    /* draw border around running cells */\n",
        "    border: 3px dotted #f33;\n",
        "}\n",
        "\n",
        "/* header colours and fonts */\n",
        "h1 { color: #444; }\n",
        "h2 { color: #444; }\n",
        "h3 { color: #444; font-style: italic; font-weight: normal}\n",
        "\n",
        "\n",
        "</style>"
       ],
       "metadata": {},
       "output_type": "display_data",
       "text": [
        "<IPython.core.display.HTML at 0xa62de4c>"
       ]
      }
     ],
     "prompt_number": 8
    },
    {
     "cell_type": "heading",
     "level": 4,
     "metadata": {},
     "source": [
      "Step 1: ::FOO BAR::"
     ]
    },
    {
     "cell_type": "markdown",
     "metadata": {},
     "source": [
      "Explanation of step 1"
     ]
    },
    {
     "cell_type": "code",
     "collapsed": false,
     "input": [],
     "language": "python",
     "metadata": {},
     "outputs": [],
     "prompt_number": 8
    },
    {
     "cell_type": "code",
     "collapsed": false,
     "input": [],
     "language": "python",
     "metadata": {},
     "outputs": [],
     "prompt_number": 8
    },
    {
     "cell_type": "heading",
     "level": 3,
     "metadata": {},
     "source": [
      "References"
     ]
    },
    {
     "cell_type": "markdown",
     "metadata": {},
     "source": [
      "- [1] : foo bar baz"
     ]
    },
    {
     "cell_type": "heading",
     "level": 3,
     "metadata": {},
     "source": [
      "Related"
     ]
    },
    {
     "cell_type": "markdown",
     "metadata": {},
     "source": [
      "- Louic NB style: http://blog.louic.nl/?p=683"
     ]
    },
    {
     "cell_type": "heading",
     "level": 3,
     "metadata": {},
     "source": [
      "Redistribution"
     ]
    },
    {
     "cell_type": "markdown",
     "metadata": {},
     "source": [
      "This notebook is free for redistribution.  If using as reference, please cite as:\n",
      "\n",
      "- ???"
     ]
    }
   ],
   "metadata": {}
  }
 ]
}
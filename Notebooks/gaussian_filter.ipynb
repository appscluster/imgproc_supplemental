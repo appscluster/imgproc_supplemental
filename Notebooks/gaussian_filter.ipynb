{
 "metadata": {
  "name": "",
  "signature": "sha256:b88e36ab0fc22870fbcd00c58ddaf778207d822c8c7a4485b1bd378842c6d209"
 },
 "nbformat": 3,
 "nbformat_minor": 0,
 "worksheets": [
  {
   "cells": [
    {
     "cell_type": "heading",
     "level": 1,
     "metadata": {},
     "source": [
      "Gaussian_filter Test"
     ]
    },
    {
     "cell_type": "heading",
     "level": 2,
     "metadata": {},
     "source": [
      "WARPED_2"
     ]
    },
    {
     "cell_type": "raw",
     "metadata": {},
     "source": [
      "1) \\textbf{gussian\\_filter} effectively makes the background become even-contrast;\\\\\n",
      "2) It will be much imporved if threshold this guassin filtered image;\\\\\n",
      "3) Because the guass_filter may change the brightness of the image, so auto thresholding is better;\\\\\n",
      "4) The thresholding given by \\textbf{threshold\\_otsu(image)} on guassian_filter image is quite good."
     ]
    },
    {
     "cell_type": "code",
     "collapsed": false,
     "input": [
      "plt.rcParams['figure.figsize'] = 16, 12\n",
      "%config InlineBackend.figure_format = 'svg' #svg backend\n",
      "\n",
      "import matplotlib.pyplot as plt\n",
      "import matplotlib.pylab as pylab\n",
      "import numpy as np\n",
      "\n",
      "from skimage import data, img_as_float\n",
      "from skimage import exposure\n",
      "from skimage import io\n",
      "from skimage import img_as_float\n",
      "from skimage import filter\n",
      "from skimage.morphology import binary_closing, disk\n",
      "from skimage.filter import roberts, sobel\n",
      "from skimage.filter import denoise_tv_chambolle, denoise_bilateral\n",
      "from skimage.filter import threshold_otsu, threshold_adaptive\n",
      "from skimage.filter import canny\n",
      "from scipy import ndimage\n",
      "\n",
      "\n",
      "pylab.rcParams['figure.figsize'] = 20, 18"
     ],
     "language": "python",
     "metadata": {},
     "outputs": [
      {
       "output_type": "stream",
       "stream": "stderr",
       "text": [
        "ERROR: global name 'select_figure_formats' is not defined\n"
       ]
      }
     ],
     "prompt_number": 1
    },
    {
     "cell_type": "code",
     "collapsed": false,
     "input": [
      "def preprocess_highpass(image, filter_width=100):\n",
      "    '''Emulates a highpass filter by subtracted a smoothed version \n",
      "    of the image from the image.\n",
      "\n",
      "    Parameters:\n",
      "    ----------------\n",
      "    image: a ndarray\n",
      "    filter_width: an int, should be much bigger than the relevant features in the image, \n",
      "        and about the scale of the background variations\n",
      "\n",
      "    Returns:\n",
      "    -----------\n",
      "    f_image: ndarray with the same shape as the input image, with float dtype, the filtered image,\n",
      "        with minimum at 0.\n",
      "    '''\n",
      "\n",
      "    image = img_as_float(image)\n",
      "    lowpass = ndimage.gaussian_filter(image, filter_width)\n",
      "    f_image = image - lowpass\n",
      "    f_image -= f_image.min()\n",
      "    return f_image"
     ],
     "language": "python",
     "metadata": {},
     "outputs": [],
     "prompt_number": 2
    },
    {
     "cell_type": "code",
     "collapsed": false,
     "input": [
      "# Load an example image \n",
      "filename = 'images/WARPED_2.tif'\n",
      "warped_2 = io.imread(filename)"
     ],
     "language": "python",
     "metadata": {},
     "outputs": [
      {
       "ename": "IOError",
       "evalue": "[Errno 2] No such file or directory: 'images/WARPED_2.tif'",
       "output_type": "pyerr",
       "traceback": [
        "\u001b[1;31m---------------------------------------------------------------------------\u001b[0m\n\u001b[1;31mIOError\u001b[0m                                   Traceback (most recent call last)",
        "\u001b[1;32m<ipython-input-3-91a5cdaa32be>\u001b[0m in \u001b[0;36m<module>\u001b[1;34m()\u001b[0m\n\u001b[0;32m      1\u001b[0m \u001b[1;31m# Load an example image\u001b[0m\u001b[1;33m\u001b[0m\u001b[1;33m\u001b[0m\u001b[0m\n\u001b[0;32m      2\u001b[0m \u001b[0mfilename\u001b[0m \u001b[1;33m=\u001b[0m \u001b[1;34m'images/WARPED_2.tif'\u001b[0m\u001b[1;33m\u001b[0m\u001b[0m\n\u001b[1;32m----> 3\u001b[1;33m \u001b[0mwarped_2\u001b[0m \u001b[1;33m=\u001b[0m \u001b[0mio\u001b[0m\u001b[1;33m.\u001b[0m\u001b[0mimread\u001b[0m\u001b[1;33m(\u001b[0m\u001b[0mfilename\u001b[0m\u001b[1;33m)\u001b[0m\u001b[1;33m\u001b[0m\u001b[0m\n\u001b[0m",
        "\u001b[1;32m/home/glue/Enthought/Canopy_64bit/User/lib/python2.7/site-packages/scikit_image-0.9.3-py2.7-linux-x86_64.egg/skimage/io/_io.pyc\u001b[0m in \u001b[0;36mimread\u001b[1;34m(fname, as_grey, plugin, flatten, **plugin_args)\u001b[0m\n\u001b[0;32m    148\u001b[0m         \u001b[0mos\u001b[0m\u001b[1;33m.\u001b[0m\u001b[0mremove\u001b[0m\u001b[1;33m(\u001b[0m\u001b[0mf\u001b[0m\u001b[1;33m.\u001b[0m\u001b[0mname\u001b[0m\u001b[1;33m)\u001b[0m\u001b[1;33m\u001b[0m\u001b[0m\n\u001b[0;32m    149\u001b[0m     \u001b[1;32melse\u001b[0m\u001b[1;33m:\u001b[0m\u001b[1;33m\u001b[0m\u001b[0m\n\u001b[1;32m--> 150\u001b[1;33m         \u001b[0mimg\u001b[0m \u001b[1;33m=\u001b[0m \u001b[0mcall_plugin\u001b[0m\u001b[1;33m(\u001b[0m\u001b[1;34m'imread'\u001b[0m\u001b[1;33m,\u001b[0m \u001b[0mfname\u001b[0m\u001b[1;33m,\u001b[0m \u001b[0mplugin\u001b[0m\u001b[1;33m=\u001b[0m\u001b[0mplugin\u001b[0m\u001b[1;33m,\u001b[0m \u001b[1;33m**\u001b[0m\u001b[0mplugin_args\u001b[0m\u001b[1;33m)\u001b[0m\u001b[1;33m\u001b[0m\u001b[0m\n\u001b[0m\u001b[0;32m    151\u001b[0m \u001b[1;33m\u001b[0m\u001b[0m\n\u001b[0;32m    152\u001b[0m     \u001b[1;32mif\u001b[0m \u001b[0mas_grey\u001b[0m \u001b[1;32mand\u001b[0m \u001b[0mgetattr\u001b[0m\u001b[1;33m(\u001b[0m\u001b[0mimg\u001b[0m\u001b[1;33m,\u001b[0m \u001b[1;34m'ndim'\u001b[0m\u001b[1;33m,\u001b[0m \u001b[1;36m0\u001b[0m\u001b[1;33m)\u001b[0m \u001b[1;33m>=\u001b[0m \u001b[1;36m3\u001b[0m\u001b[1;33m:\u001b[0m\u001b[1;33m\u001b[0m\u001b[0m\n",
        "\u001b[1;32m/home/glue/Enthought/Canopy_64bit/User/lib/python2.7/site-packages/scikit_image-0.9.3-py2.7-linux-x86_64.egg/skimage/io/_plugins/plugin.pyc\u001b[0m in \u001b[0;36mcall\u001b[1;34m(kind, *args, **kwargs)\u001b[0m\n\u001b[0;32m    103\u001b[0m                                (plugin, kind))\n\u001b[0;32m    104\u001b[0m \u001b[1;33m\u001b[0m\u001b[0m\n\u001b[1;32m--> 105\u001b[1;33m     \u001b[1;32mreturn\u001b[0m \u001b[0mfunc\u001b[0m\u001b[1;33m(\u001b[0m\u001b[1;33m*\u001b[0m\u001b[0margs\u001b[0m\u001b[1;33m,\u001b[0m \u001b[1;33m**\u001b[0m\u001b[0mkwargs\u001b[0m\u001b[1;33m)\u001b[0m\u001b[1;33m\u001b[0m\u001b[0m\n\u001b[0m\u001b[0;32m    106\u001b[0m \u001b[1;33m\u001b[0m\u001b[0m\n\u001b[0;32m    107\u001b[0m \u001b[1;33m\u001b[0m\u001b[0m\n",
        "\u001b[1;32m/home/glue/Enthought/Canopy_64bit/User/lib/python2.7/site-packages/scikit_image-0.9.3-py2.7-linux-x86_64.egg/skimage/io/_plugins/pil_plugin.pyc\u001b[0m in \u001b[0;36mimread\u001b[1;34m(fname, dtype)\u001b[0m\n\u001b[0;32m     19\u001b[0m \u001b[1;33m\u001b[0m\u001b[0m\n\u001b[0;32m     20\u001b[0m     \"\"\"\n\u001b[1;32m---> 21\u001b[1;33m     \u001b[0mim\u001b[0m \u001b[1;33m=\u001b[0m \u001b[0mImage\u001b[0m\u001b[1;33m.\u001b[0m\u001b[0mopen\u001b[0m\u001b[1;33m(\u001b[0m\u001b[0mfname\u001b[0m\u001b[1;33m)\u001b[0m\u001b[1;33m\u001b[0m\u001b[0m\n\u001b[0m\u001b[0;32m     22\u001b[0m     \u001b[1;32mif\u001b[0m \u001b[0mim\u001b[0m\u001b[1;33m.\u001b[0m\u001b[0mmode\u001b[0m \u001b[1;33m==\u001b[0m \u001b[1;34m'P'\u001b[0m\u001b[1;33m:\u001b[0m\u001b[1;33m\u001b[0m\u001b[0m\n\u001b[0;32m     23\u001b[0m         \u001b[1;32mif\u001b[0m \u001b[0m_palette_is_grayscale\u001b[0m\u001b[1;33m(\u001b[0m\u001b[0mim\u001b[0m\u001b[1;33m)\u001b[0m\u001b[1;33m:\u001b[0m\u001b[1;33m\u001b[0m\u001b[0m\n",
        "\u001b[1;32m/home/glue/Enthought/Canopy_64bit/User/lib/python2.7/site-packages/PIL/Image.pyc\u001b[0m in \u001b[0;36mopen\u001b[1;34m(fp, mode)\u001b[0m\n\u001b[0;32m   1950\u001b[0m         \u001b[1;32mimport\u001b[0m \u001b[0m__builtin__\u001b[0m\u001b[1;33m\u001b[0m\u001b[0m\n\u001b[0;32m   1951\u001b[0m         \u001b[0mfilename\u001b[0m \u001b[1;33m=\u001b[0m \u001b[0mfp\u001b[0m\u001b[1;33m\u001b[0m\u001b[0m\n\u001b[1;32m-> 1952\u001b[1;33m         \u001b[0mfp\u001b[0m \u001b[1;33m=\u001b[0m \u001b[0m__builtin__\u001b[0m\u001b[1;33m.\u001b[0m\u001b[0mopen\u001b[0m\u001b[1;33m(\u001b[0m\u001b[0mfp\u001b[0m\u001b[1;33m,\u001b[0m \u001b[1;34m\"rb\"\u001b[0m\u001b[1;33m)\u001b[0m\u001b[1;33m\u001b[0m\u001b[0m\n\u001b[0m\u001b[0;32m   1953\u001b[0m     \u001b[1;32melse\u001b[0m\u001b[1;33m:\u001b[0m\u001b[1;33m\u001b[0m\u001b[0m\n\u001b[0;32m   1954\u001b[0m         \u001b[0mfilename\u001b[0m \u001b[1;33m=\u001b[0m \u001b[1;34m\"\"\u001b[0m\u001b[1;33m\u001b[0m\u001b[0m\n",
        "\u001b[1;31mIOError\u001b[0m: [Errno 2] No such file or directory: 'images/WARPED_2.tif'"
       ]
      }
     ],
     "prompt_number": 3
    },
    {
     "cell_type": "heading",
     "level": 3,
     "metadata": {},
     "source": [
      "Original image VS. Gussian_filter image"
     ]
    },
    {
     "cell_type": "code",
     "collapsed": false,
     "input": [
      "plt.gray()\n",
      "image = warped_2\n",
      "guassian_filter = preprocess_highpass(warped_2)\n",
      "\n",
      "fig, ((ax0, ax1), (ax2, ax3)) = plt.subplots(ncols=2, nrows=2, figsize=(24, 20))\n",
      "\n",
      "ax0.imshow(image)\n",
      "ax0.set_title('Raw image WARPED_2')\n",
      "ax0.axis('off')\n",
      "\n",
      "ax1.imshow(guassian_filter)\n",
      "ax1.set_title('Guassian filter')\n",
      "ax1.axis('off')\n",
      "\n",
      "ax2.imshow(image)\n",
      "ax2.set_title('Raw image WARPED_2')\n",
      "ax2.axis('off')\n",
      "ax2.set_xlim(50,100)\n",
      "ax2.set_ylim(50,100)\n",
      "\n",
      "ax3.imshow(guassian_filter)\n",
      "ax3.set_title('Guassian filter')\n",
      "ax3.axis('off')\n",
      "ax3.set_xlim(50,100)\n",
      "ax3.set_ylim(50,100)\n",
      "\n",
      "plt.show()"
     ],
     "language": "python",
     "metadata": {},
     "outputs": []
    },
    {
     "cell_type": "raw",
     "metadata": {},
     "source": [
      "Good result: **Blur** in scikit image doesn't become a noticable effect.  The fill width was 100; don't understand that parameter well.  The default imagej guassian blur uses a pixel parameter, and seems to result in blurrier particle bounds."
     ]
    },
    {
     "cell_type": "heading",
     "level": 3,
     "metadata": {},
     "source": [
      "Auto Thresholding otsu on original image VS. on gussian_filter image"
     ]
    },
    {
     "cell_type": "code",
     "collapsed": false,
     "input": [
      "global_thresh = threshold_otsu(image)\n",
      "binary_global = image > global_thresh\n",
      "\n",
      "global_thresh_gussian = threshold_otsu(guassian_filter)\n",
      "binary_global_guassian = guassian_filter > global_thresh_gussian\n",
      "\n",
      "fig, ((ax0, ax1)) = plt.subplots(ncols=2, nrows=1, figsize=(24, 20))\n",
      "\n",
      "ax0.imshow(binary_global)\n",
      "ax0.set_title('Global thresholding(otsu) on raw image')\n",
      "ax0.axis('off')\n",
      "\n",
      "ax1.imshow(binary_global_guassian)\n",
      "ax1.set_title('Global thresholding(otsu) on gussian_filter image')\n",
      "ax1.axis('off')\n",
      "\n",
      "plt.show()"
     ],
     "language": "python",
     "metadata": {},
     "outputs": []
    },
    {
     "cell_type": "code",
     "collapsed": false,
     "input": [
      "imsave('images/WARPED_2_adjusted.tif',binary_global_guassian, cmap=plt.cm.gray)"
     ],
     "language": "python",
     "metadata": {},
     "outputs": []
    },
    {
     "cell_type": "heading",
     "level": 3,
     "metadata": {},
     "source": [
      "Manual Thresholding on original image VS. on gussian_filter image"
     ]
    },
    {
     "cell_type": "code",
     "collapsed": false,
     "input": [
      "thresholding = image > 121\n",
      "thresholding_guassian = guassian_filter > (121/255.)\n",
      "\n",
      "fig, ((ax0, ax1)) = plt.subplots(ncols=2, nrows=1, figsize=(24, 20))\n",
      "\n",
      "ax0.imshow(thresholding)\n",
      "ax0.set_title('Thresholding(image > 121) of raw image WARPED_2')\n",
      "ax0.axis('off')\n",
      "\n",
      "ax1.imshow(thresholding_guassian)\n",
      "ax1.set_title('Thresholding(image > 121) after guassian filter')\n",
      "ax1.axis('off')\n",
      "\n",
      "plt.show()"
     ],
     "language": "python",
     "metadata": {},
     "outputs": []
    },
    {
     "cell_type": "heading",
     "level": 2,
     "metadata": {},
     "source": [
      "Sept_5_12 f2_30000_low.tif"
     ]
    },
    {
     "cell_type": "raw",
     "metadata": {},
     "source": [
      "1) \\textbf{gussian\\_filter} can make the rectangles less standing out, intead of eliminating them.\\\\\n",
      "2) Auto thresholding \\textbf{threshold\\_otsu(image)} on guassian_filter image gives pretty good binarize thresholding."
     ]
    },
    {
     "cell_type": "code",
     "collapsed": false,
     "input": [
      "# Load an example image \n",
      "filename = 'images/SEPT_5_12_f2_30000_low.tif'\n",
      "rectangle = io.imread(filename)"
     ],
     "language": "python",
     "metadata": {},
     "outputs": []
    },
    {
     "cell_type": "heading",
     "level": 3,
     "metadata": {},
     "source": [
      "Original image VS. Gussian_filter image"
     ]
    },
    {
     "cell_type": "code",
     "collapsed": false,
     "input": [
      "image = rectangle\n",
      "guassian_filter = preprocess_highpass(image)\n",
      "\n",
      "fig, ((ax0, ax1)) = plt.subplots(ncols=2, nrows=1, figsize=(24, 20))\n",
      "\n",
      "ax0.imshow(image)\n",
      "ax0.set_title('Raw image SEPT_5_12_f2_30000_low')\n",
      "ax0.axis('off')\n",
      "\n",
      "ax1.imshow(guassian_filter)\n",
      "ax1.set_title('Guassian filter')\n",
      "ax1.axis('off')\n",
      "\n",
      "plt.show()"
     ],
     "language": "python",
     "metadata": {},
     "outputs": []
    },
    {
     "cell_type": "heading",
     "level": 3,
     "metadata": {},
     "source": [
      "Auto Thresholding otsu on original image VS. on gussian_filter image"
     ]
    },
    {
     "cell_type": "code",
     "collapsed": false,
     "input": [
      "global_thresh = threshold_otsu(image)\n",
      "binary_global = image > global_thresh\n",
      "\n",
      "global_thresh_gussian = threshold_otsu(guassian_filter)\n",
      "binary_global_guassian = guassian_filter > global_thresh_gussian\n",
      "\n",
      "fig, ((ax0, ax1)) = plt.subplots(ncols=2, nrows=1, figsize=(24, 20))\n",
      "\n",
      "ax0.imshow(binary_global)\n",
      "ax0.set_title('Global thresholding(otsu) on raw image')\n",
      "ax0.axis('off')\n",
      "\n",
      "ax1.imshow(binary_global_guassian)\n",
      "ax1.set_title('Global thresholding(otsu) on gussian_filter image')\n",
      "ax1.axis('off')\n",
      "\n",
      "plt.show()"
     ],
     "language": "python",
     "metadata": {},
     "outputs": []
    },
    {
     "cell_type": "code",
     "collapsed": false,
     "input": [
      "imsave('/Users/zhaowenliu/Dropbox/III-VII_SEMSUMMARY/NOTEBOOKS-ANALYSIS/adjusted_images/SEPT_5_12_f2_30000_low_adjusted.tif',binary_global_guassian, cmap=plt.cm.gray)"
     ],
     "language": "python",
     "metadata": {},
     "outputs": []
    },
    {
     "cell_type": "heading",
     "level": 3,
     "metadata": {},
     "source": [
      "Manual Thresholding on original image VS. on gussian_filter image"
     ]
    },
    {
     "cell_type": "code",
     "collapsed": false,
     "input": [
      "thresholding = image > 145\n",
      "thresholding_guassian = guassian_filter > (145/255.)\n",
      "\n",
      "fig, ((ax0, ax1)) = plt.subplots(ncols=2, nrows=1, figsize=(24, 20))\n",
      "\n",
      "ax0.imshow(thresholding)\n",
      "ax0.set_title('Thresholding(image > 145) of raw image SEPT_5_12_f2_30000_low')\n",
      "ax0.axis('off')\n",
      "\n",
      "ax1.imshow(thresholding_guassian)\n",
      "ax1.set_title('Thresholding(image > 145) after guassian filter')\n",
      "ax1.axis('off')\n",
      "\n",
      "plt.show()"
     ],
     "language": "python",
     "metadata": {},
     "outputs": []
    },
    {
     "cell_type": "heading",
     "level": 3,
     "metadata": {},
     "source": [
      "Conclusion"
     ]
    },
    {
     "cell_type": "code",
     "collapsed": false,
     "input": [
      "1) \\textbf{gussian\\_filter} makes the background even effectively;\\\\\n",
      "2) Auto threshold \\textbf{threshold\\_otsu(image)} gives good thresholded and binarized image."
     ],
     "language": "python",
     "metadata": {},
     "outputs": []
    }
   ],
   "metadata": {}
  }
 ]
}
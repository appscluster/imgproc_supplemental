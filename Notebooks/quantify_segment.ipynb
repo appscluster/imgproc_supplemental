{
 "metadata": {
  "name": "",
  "signature": "sha256:a85cb8da7312ec837c9f0c3c26e620d449b572e447d7c864a57e859d43f46803"
 },
 "nbformat": 3,
 "nbformat_minor": 0,
 "worksheets": [
  {
   "cells": [
    {
     "cell_type": "markdown",
     "metadata": {},
     "source": [
      "Adam Hughes\n",
      "\n",
      "2/27/14\n",
      "\n",
      "The George Washington University"
     ]
    },
    {
     "cell_type": "heading",
     "level": 1,
     "metadata": {},
     "source": [
      "A Simple Criteria for Quantifying Segmentation Errors Between Two Binary Images"
     ]
    },
    {
     "cell_type": "heading",
     "level": 3,
     "metadata": {},
     "source": [
      "Objective"
     ]
    },
    {
     "cell_type": "markdown",
     "metadata": {},
     "source": [
      "We test a simple quantification criteria for image segmentation.  Given two BINARY images, one to be our segmentation, and one that is the apriori *exact* segmentation (only known from the test data) we output three quantities:\n",
      "\n",
      "1. False Positives (fp):\n",
      "    - White pixels in segment that are not in true binary image.\n",
      "2. False Negatives (fn):\n",
      "    - White pixels missing from segment that are in true binary image.\n",
      "3. Net Error:\n",
      "    - fp + fn\n",
      "    \n",
      "We will test these concepts on simple 2x2 pixel boolean images."
     ]
    },
    {
     "cell_type": "heading",
     "level": 3,
     "metadata": {},
     "source": [
      "Environment"
     ]
    },
    {
     "cell_type": "markdown",
     "metadata": {},
     "source": [
      "Configure notebook style (see NBCONFIG.ipynb), add imports and paths.  The **%run** magic used below <font color='red'>**requires IPython 2.0 or higher!**</font>"
     ]
    },
    {
     "cell_type": "code",
     "collapsed": false,
     "input": [
      "%run NBCONFIG.ipynb"
     ],
     "language": "python",
     "metadata": {},
     "outputs": [
      {
       "html": [
        "<style>\n",
        "#notebook_panel { /* main background */\n",
        "    background: #333;\n",
        "    color: #f6f6f6;\n",
        "}\n",
        "\n",
        "\n",
        "div #notebook { /* centre the content */\n",
        "    background: #FFFFF0;  /* IVORY */\n",
        "    color: #333;\n",
        "    width: 115ex;\n",
        "    margin: auto;\n",
        "    padding-left: 1em;\n",
        "    padding-right: 1em;\n",
        "    padding-top: 2ex;\n",
        "}\n",
        "\n",
        "\n",
        "div.text_cell_render {  /*Markdown cells */\n",
        "    font-family: Computer Modern Roman;\n",
        "}\n",
        "\n",
        "/* remove big margins around title */\n",
        "div.text_cell_render.border-box-sizing.rendered_html {\n",
        "    margin: 0; /*What is this */\n",
        "    padding: 0.05; /*Spacing between cells*/ \n",
        "    margin-left: 1ex;\n",
        "}\n",
        "div.cell.text_cell.border-box-sizing {\n",
        "    margin: 0;\n",
        "    padding: 0.05; \n",
        "}\n",
        "\n",
        ".rendered_html h1 {\n",
        "    margin: 0;\n",
        "    padding: 0;\n",
        "}\n",
        ".rendered_html h2 {\n",
        "    margin: 0;\n",
        "    padding: 0;\n",
        "}\n",
        ".rendered_html h3 {\n",
        "    margin: 0;\n",
        "    padding: 0;\n",
        "}\n",
        "\n",
        "/* Width of all cells */\n",
        "div.cell { /* set cell width to about 80 chars */\n",
        "    width: 55em;\n",
        "\n",
        "}\n",
        "\n",
        "/* Set font of coding cells (DONT KNOW WHY BUT NEED THIS) */\n",
        ".CodeMirror {\n",
        "    font-family: Sawasdee;\n",
        "    font-size: normal;\n",
        "    font-weight: 700;\n",
        "}\n",
        "\n",
        "div.cell.code_cell { /* Total code cell, in and out */\n",
        "    background: #FFFFF0;\n",
        "    border: none;\n",
        "    padding-top: 1ex;\n",
        "}\n",
        "\n",
        "div.input_area { /* box around box with code ??? */\n",
        "    border: none;\n",
        "    background: #f5f5f5;\n",
        "    border: 1px solid #fff;\n",
        "    border-radius: 10px;\n",
        "    padding-top: 0.5ex;\n",
        "    padding-bottom: 0.5ex;\n",
        "    padding-left: 0.5em;\n",
        "}\n",
        "\n",
        "div.input { /* box with code */\n",
        "}\n",
        "\n",
        "\n",
        "div.prompt { /* remove In/Out prompt */\n",
        "    display: none;\n",
        "}\n",
        "\n",
        "div.output_subarea { /* remove margin in front of output */\n",
        "    border: none;\n",
        "}\n",
        "\n",
        "div.cell.border-box-sizing.code_cell.running { \n",
        "    /* draw red dotted border around running cells */\n",
        "    border: 3px dotted #f33;\n",
        "}\n",
        "\n",
        "/* header colours and fonts */\n",
        "h1 { color: #444; }\n",
        "h2 { color: #444; font-style: oblique}\n",
        "h3 { color: #0000A0; font-weight: normal}\n",
        "h4 { color: #444; font-weight: oblique; font-size: large}\n",
        "\n",
        "\n",
        "</style>"
       ],
       "metadata": {},
       "output_type": "display_data",
       "text": [
        "<IPython.core.display.HTML at 0x3ea0890>"
       ]
      },
      {
       "output_type": "stream",
       "stream": "stderr",
       "text": [
        "ERROR: global name 'select_figure_formats' is not defined\n"
       ]
      }
     ],
     "prompt_number": 1
    },
    {
     "cell_type": "heading",
     "level": 4,
     "metadata": {},
     "source": [
      "Step 1: Simple test images"
     ]
    },
    {
     "cell_type": "markdown",
     "metadata": {},
     "source": [
      "Let's make two basic images, **A** and **B**.  Assume that **A** is our test image and **B** is the true segmentation.  **A** may represent, for example, the segmented image returned from thresholding, while **B** is the true segmentation from pyparty based on the unaltered test image."
     ]
    },
    {
     "cell_type": "code",
     "collapsed": false,
     "input": [
      "def double_plot(img1, img2, t1='Image A', t2='Image B'):\n",
      "    \"\"\" Quick double plot to reduce boilerplate\"\"\"\n",
      "\n",
      "    ax1, ax2 = splot(1,2, figsize=(8,8))\n",
      "    showim(img1, ax1, 'gray', interpolation='none', title=t1)\n",
      "    showim(img2, ax2, 'gray', interpolation='none', title=t2)\n",
      "\n",
      "    # Add grid\n",
      "    gstyle = {'color':'r', 'lw':'3', 'linestyles':'--'}\n",
      "    for ax in ax1, ax2:\n",
      "        ax.vlines(0.5, 1.5, -.5, **gstyle)\n",
      "        ax.hlines(0.5, 1.5, -.5, **gstyle)\n",
      "\n",
      "A=np.array((\n",
      "            (True, False),\n",
      "            (False, True)\n",
      "           ))\n",
      "\n",
      "B=np.array((\n",
      "           (True, False),\n",
      "           (True, False)\n",
      "           ))\n",
      "\n",
      "double_plot(A,B);\n"
     ],
     "language": "python",
     "metadata": {},
     "outputs": [
      {
       "metadata": {},
       "output_type": "display_data",
       "png": "[encoded data removed]",
       "text": [
        "<matplotlib.figure.Figure at 0x3f19f50>"
       ]
      }
     ],
     "prompt_number": 2
    },
    {
     "cell_type": "markdown",
     "metadata": {},
     "source": [
      "At first, I thought that doing simple subtraction was sufficient to quantify our segementation, but this is not true because of the nature of boolean arithmatic.  "
     ]
    },
    {
     "cell_type": "code",
     "collapsed": false,
     "input": [
      "double_plot(A+B, A-B, t1='A + B', t2='A - B')"
     ],
     "language": "python",
     "metadata": {},
     "outputs": [
      {
       "metadata": {},
       "output_type": "display_data",
       "png": "[encoded data removed]",
       "text": [
        "<matplotlib.figure.Figure at 0x341fb90>"
       ]
      }
     ],
     "prompt_number": 3
    },
    {
     "cell_type": "markdown",
     "metadata": {},
     "source": [
      "**We want the white pixels in A that are not white in B** for false postives, and the **white pixels in B that are not white in A** for false negatives.  Looking at the image, this is the bottom right square.   By happenstance, I already have operators in pyparty that do this.  They were built for a related but different reason and nicely being repurposed.  They represent the **intersect** and **difference** operations in set theory.  The *difference* operator is sufficient."
     ]
    },
    {
     "cell_type": "code",
     "collapsed": false,
     "input": [
      "from pyparty.tools.arraytools import differ\n",
      "\n",
      "fp = differ(A,B)\n",
      "fn = differ(B,A)\n",
      "\n",
      "double_plot(fp, fn, t1='white A not in B (fp)', t2='white B not in A (fn)')"
     ],
     "language": "python",
     "metadata": {},
     "outputs": [
      {
       "metadata": {},
       "output_type": "display_data",
       "png": "[encoded data removed]",
       "text": [
        "<matplotlib.figure.Figure at 0x3f2ff50>"
       ]
      }
     ],
     "prompt_number": 4
    },
    {
     "cell_type": "markdown",
     "metadata": {},
     "source": [
      "Looking at the original image, we see that 2 pixels are the same between both images, and two are swapped.  Therefore, the net error in this segmentation, *according to our criteria*, should be 50 percent, and this is recaptured in the boolean arithmatic easily:"
     ]
    },
    {
     "cell_type": "code",
     "collapsed": false,
     "input": [
      "TOTAL_PIXELS = A.shape[0] * A.shape[1]\n",
      "\n",
      "print 'Net pixels: %s'% TOTAL_PIXELS\n",
      "print 'False positives: %s'% fp.sum()\n",
      "print 'False negatives: %s'% fn.sum()\n",
      "\n",
      "print 'Net error: %s'%( float(fp.sum() + fn.sum()) / TOTAL_PIXELS)"
     ],
     "language": "python",
     "metadata": {},
     "outputs": [
      {
       "output_type": "stream",
       "stream": "stdout",
       "text": [
        "Net pixels: 4\n",
        "False positives: 1\n",
        "False negatives: 1\n",
        "Net error: 0.5\n"
       ]
      }
     ],
     "prompt_number": 5
    },
    {
     "cell_type": "markdown",
     "metadata": {},
     "source": [
      "A simple function, **pyparty.tools.arraytools.segment_summary** will quickly do this for us, and also does some house keeping like ensuring that binary images are passed and that the images are of equal shape.  "
     ]
    },
    {
     "cell_type": "code",
     "collapsed": false,
     "input": [
      "from pyparty.tools.arraytools import segment_summary\n",
      "\n",
      "print 'FP=%s  FN=%s  Net error=%s\\n' % segment_summary(A,B)"
     ],
     "language": "python",
     "metadata": {},
     "outputs": [
      {
       "output_type": "stream",
       "stream": "stdout",
       "text": [
        "FP=1  FN=1  Net error=0.5\n",
        "\n"
       ]
      }
     ],
     "prompt_number": 6
    },
    {
     "cell_type": "heading",
     "level": 2,
     "metadata": {},
     "source": [
      "Related"
     ]
    },
    {
     "cell_type": "markdown",
     "metadata": {},
     "source": [
      "- Set theory (see intersection/difference): https://en.wikipedia.org/wiki/Set_theory\n",
      "- Louic NB style: http://blog.louic.nl/?p=683\n",
      "- pyparty: https://github.com/hugadams/pyparty"
     ]
    },
    {
     "cell_type": "heading",
     "level": 2,
     "metadata": {},
     "source": [
      "Redistribution"
     ]
    },
    {
     "cell_type": "markdown",
     "metadata": {},
     "source": [
      "This notebook is free for redistribution.  If referencing, please cite as:\n",
      "\n",
      "- Hughes, A. (2012). [A Computational Framework for Plasmonic Nanobiosensing](https://www.researchgate.net/publication/236672995_A_Computational_Framework_for_Plasmonic_Nanobiosensing).  Python in Science Conference [SCIPY]. "
     ]
    }
   ],
   "metadata": {}
  }
 ]
}
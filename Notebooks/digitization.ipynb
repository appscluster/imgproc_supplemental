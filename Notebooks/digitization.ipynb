{
 "metadata": {
  "name": "",
  "signature": "sha256:82ab274964b281b1e151572deb0d10eab4117ab71853226fd678f314b2259698"
 },
 "nbformat": 3,
 "nbformat_minor": 0,
 "worksheets": [
  {
   "cells": [
    {
     "cell_type": "markdown",
     "metadata": {},
     "source": [
      "- *Adam Hughes*\n",
      "- *2/16/2014*\n",
      "- *George Washington University*"
     ]
    },
    {
     "cell_type": "heading",
     "level": 1,
     "metadata": {},
     "source": [
      "Digitization Errors: Preliminary"
     ]
    },
    {
     "cell_type": "heading",
     "level": 3,
     "metadata": {},
     "source": [
      "<font color='purple'>Objective</font>"
     ]
    },
    {
     "cell_type": "markdown",
     "metadata": {},
     "source": [
      "The goal of this exercise is to plot the circulairty as a function of radius, **C(r)**, for circles of increasing size.   In principle, the circularity of a single pixel (square) is $\\frac{4\\pi}{16} = .785$, and a perfect circle is 1.0, where I'm defining circularity as:\n",
      "\n",
      "$4\\pi \\times \\frac{\\mbox{Area}}{\\left(\\mbox{Perimeter}\\right)^2}$\n",
      "\n",
      "Of course, the real value will depend on how the objects are rastuerized, and on how accurately their areas and perimeters can are measured.  Therefore, we will test 3 encoding methods:\n",
      "\n",
      "1. ImageJ analyzed particles and Scikit Image labels() \n",
      "    - These both give the same output for area and perimeter incidentally\n",
      "2. ImageJ's circularity descriptor, which has a correction applied.\n",
      "3. ImageJ's particle8 plugin[1]\n"
     ]
    },
    {
     "cell_type": "heading",
     "level": 3,
     "metadata": {},
     "source": [
      "<font color='purple'>Environment Setup</font>"
     ]
    },
    {
     "cell_type": "markdown",
     "metadata": {},
     "source": [
      "Import pyparty functions, configure notebook style, logging and plot parameters, and also set a *relative path* to the digitization folder where several datasets and images are stored already."
     ]
    },
    {
     "cell_type": "code",
     "collapsed": true,
     "input": [
      "%run NBCONFIG.ipynb\n",
      "\n",
      "# matplotlib.rc('font', family='fantasy') \n",
      "# matplotlib.rc('font', fantasy='Comic Sans MS') \n",
      "# matplotlib.rc('text', usetex='false') \n",
      "# matplotlib.rcParams.update({'font.size': 15})\n",
      "\n",
      "from matplotlib import rcParams\n",
      "rcParams['font.family'] = 'serif'\n",
      "rcParams['font.serif'] = ['Computer Modern Roman']\n",
      "rcParams['text.usetex'] = True\n",
      "\n",
      "import os.path as op\n",
      "def digdir(path):\n",
      "    \"\"\" Set relative path to digitization folder to use files/images therein\"\"\"\n",
      "    return op.join( '../images/Digitization/', path)"
     ],
     "language": "python",
     "metadata": {},
     "outputs": [
      {
       "html": [
        "<style>\n",
        "#notebook_panel { /* main background */\n",
        "    background: #333;\n",
        "    color: #f6f6f6;\n",
        "}\n",
        "\n",
        "\n",
        "div #notebook { /* centre the content */\n",
        "    background: #fff;\n",
        "    color: #333;\n",
        "    width: 115ex;\n",
        "    margin: auto;\n",
        "    padding-left: 1em;\n",
        "    padding-right: 1em;\n",
        "    padding-top: 2ex;\n",
        "}\n",
        "\n",
        "/* remove big margins around title */\n",
        "div.text_cell_render.border-box-sizing.rendered_html {\n",
        "    margin: 0;\n",
        "    padding: 0; \n",
        "    margin-left: 1ex;\n",
        "}\n",
        "div.cell.text_cell.border-box-sizing {\n",
        "    margin: 0;\n",
        "    padding: 0; \n",
        "}\n",
        ".rendered_html h1 {\n",
        "    margin: 0;\n",
        "    padding: 0;\n",
        "}\n",
        ".rendered_html h2 {\n",
        "    margin: 0;\n",
        "    padding: 0;\n",
        "}\n",
        ".rendered_html h3 {\n",
        "    margin: 0;\n",
        "    padding: 0;\n",
        "}\n",
        "\n",
        "div.cell { /* set cell width to about 80 chars */\n",
        "    width: 55em;\n",
        "}\n",
        "\n",
        "div.cell.code_cell { /* area that contains code + output */\n",
        "    background: #fff;\n",
        "    border: none;\n",
        "    border-radius: 10px;\n",
        "    padding-top: 1ex;\n",
        "}\n",
        "\n",
        "div.input_area { /* box around box with code */\n",
        "    border: none;\n",
        "    background: #f5f5f5;\n",
        "    border: 1px solid #ccc;\n",
        "    border-radius: 10px;\n",
        "    padding-top: 0.5ex;\n",
        "    padding-bottom: 0.5ex;\n",
        "    padding-left: 0.5em;\n",
        "}\n",
        "\n",
        "div.input { /* box with code */\n",
        "}\n",
        "\n",
        "div.CodeMirror { /* code font */\n",
        "    font-family: \"Inconsolata-dz\", monospace;\n",
        "    font-size: 10pt;\n",
        "}\n",
        "\n",
        "div.prompt { /* remove In/Out prompt */\n",
        "    display: none;\n",
        "}\n",
        "\n",
        "div.output_subarea { /* remove margin in front of output */\n",
        "    border: none;\n",
        "}\n",
        "\n",
        "div.cell.border-box-sizing.code_cell.running { \n",
        "    /* draw border around running cells */\n",
        "    border: 3px dotted #f33;\n",
        "}\n",
        "\n",
        "/* header colours and fonts */\n",
        "h1 { color: #444; }\n",
        "h2 { color: #444; }\n",
        "h3 { color: #444; font-style: italic; font-weight: normal}\n",
        "\n",
        "\n",
        "</style>"
       ],
       "metadata": {},
       "output_type": "display_data",
       "text": [
        "<IPython.core.display.HTML at 0x7c16b50>"
       ]
      }
     ],
     "prompt_number": 5
    },
    {
     "cell_type": "heading",
     "level": 4,
     "metadata": {},
     "source": [
      "Step 1:  Create a gray canvas with a large grid spacing, then populate the grid centers with circles of radii 2-57 pixels. "
     ]
    },
    {
     "cell_type": "code",
     "collapsed": false,
     "input": [
      "c=Canvas(background='gray', rez=(1024,1024))\n",
      "c.grid.ydiv=8\n",
      "c.grid.xdiv=8\n",
      "\n",
      "centers = c.gpairs('centers')\n",
      "START = 2 #pixel\n",
      "END = 57\n",
      "\n",
      "# Add particles to grid centers\n",
      "for idx, center in enumerate(centers):\n",
      "    rad = idx+START\n",
      "    if rad >= START and rad <= END:\n",
      "        c.add('circle', center=center, radius=rad)\n",
      "\n",
      "ax1, ax2 = splot(1,2, figsize=(10,8))\n",
      "c.show(ax1, title='Rasterized circles')\n",
      "c.patchshow(ax2, gcolor='white', title='Matplotlib Patches (vector graphics)');"
     ],
     "language": "python",
     "metadata": {},
     "outputs": [
      {
       "metadata": {},
       "output_type": "display_data",
       "png": "[encoded data removed]",
       "text": [
        "<matplotlib.figure.Figure at 0x45a9190>"
       ]
      }
     ],
     "prompt_number": 6
    },
    {
     "cell_type": "markdown",
     "metadata": {},
     "source": [
      "The grid divisions were chosen in such a way as to ensure no particle overlap occurs."
     ]
    },
    {
     "cell_type": "heading",
     "level": 4,
     "metadata": {},
     "source": [
      "Step 2: Compute circularity from Area and Perimeter discriptors directly"
     ]
    },
    {
     "cell_type": "code",
     "collapsed": false,
     "input": [
      "def circularity(a, p):\n",
      "    return 4 *  np.pi * (  a / (p**2) )\n",
      "\n",
      "#Compute circularity from scikit image label()\n",
      "circ = circularity(c.area, c.perimeter)"
     ],
     "language": "python",
     "metadata": {},
     "outputs": []
    },
    {
     "cell_type": "markdown",
     "metadata": {},
     "source": [
      "Next, let's plot circularity as a function of pixel radii.  We'll roll this into a function so it's easy to plot additional scatter points later when we try the other two encoding methods."
     ]
    },
    {
     "cell_type": "code",
     "collapsed": false,
     "input": [
      "pixels = c.radius \n",
      "pmin, pmax = 0, pixels.max()\n",
      "\n",
      "def circscatt(circ, **kwargs):\n",
      "    \"\"\" Plot a circularity array pixel radii \"\"\"\n",
      "    plt.scatter(pixels, circ, **kwargs)\n",
      "    plt.xlim(pmin, pmax)\n",
      "    plt.xlabel(\"Radius (pixels)\")\n",
      "    plt.ylabel(\"Circularity\")\n",
      "    \n",
      "circscatt(circ)\n",
      "plt.hlines(1, pmin, pmax, lw=2, linestyles='--');"
     ],
     "language": "python",
     "metadata": {},
     "outputs": []
    },
    {
     "cell_type": "markdown",
     "metadata": {},
     "source": [
      "This is quite interesting, as the results DO NOT converge to C = 1.0.  <font color='red'>**Furthermore, the limit is approached from the wrong direction!**</font>  Clearly something is funky with the representations of area/perimeter at the small pixel scale.\n"
     ]
    },
    {
     "cell_type": "heading",
     "level": 4,
     "metadata": {},
     "source": [
      "Step 3: Looking closely at the small pixel scale."
     ]
    },
    {
     "cell_type": "markdown",
     "metadata": {},
     "source": [
      "Scikit image also have a descriptor called \"equivalent diameter\".  Let's make sure that the equivalent diameter is twice the pixel radius.  In fact we find a small discrepancy between equivalent diameter and the pixel radius we set out with.  This is not surprising, since rasterization prevents true circles and perhaps the error is attributed to that?"
     ]
    },
    {
     "cell_type": "code",
     "collapsed": false,
     "input": [
      "diams = c.equivalent_diameter\n",
      "plt.plot(diams/2.0, pixels);\n",
      "plt.plot(pixels, pixels, color='r', alpha=.5)\n",
      "plt.title(\"Tiny discrepancy in provided diameter and fit diameter\")\n",
      "\n",
      "print 'Equiv diams (%.1f -- %.1f)' % (diams[0], diams[-1])\n",
      "print 'Pixel diams (%.1f -- %.1f)' %  (2.0 * c.radius[-0], 2.0 * c.radius[-1])"
     ],
     "language": "python",
     "metadata": {},
     "outputs": []
    },
    {
     "cell_type": "markdown",
     "metadata": {},
     "source": [
      "Let's look more closely at the first pixel, which is a circle of radius 2 pixels.  Of course a circle of 2-pixels can't be drawn, so let's see how the scikit rasturized this *circle*."
     ]
    },
    {
     "cell_type": "code",
     "collapsed": false,
     "input": [
      "axes = splot(1,2, figsize=(8,8))\n",
      "\n",
      "c.show('pbinary', axes[0], title='First pixel: antialiased')\n",
      "c.show('pbinary', axes[1], title='First pixel: non-aliased',\n",
      "       interpolation='nearest')\n",
      "\n",
      "for ax in axes:\n",
      "    ax.set_xlim(60,66)\n",
      "    ax.set_ylim(80,86)  \n",
      "    ax.set_xlabel('pixels')\n",
      "    ax.set_ylabel('pixels')\n",
      "\n",
      "print 'area = %spx^2;  radius = %spx;  diam_equiv = %.1fpx; perim = %.1fpx' \\\n",
      "    % (c.area[0], pixels[0], diams[0], c.perimeter[0])"
     ],
     "language": "python",
     "metadata": {},
     "outputs": []
    },
    {
     "cell_type": "markdown",
     "metadata": {},
     "source": [
      "We see that the circle of 2 pixel radius, has been rasterized as a 3x3 squre.  The encoding method of scikit image label(), as well of that of imageJ's analyze particles routine (pre-generated, in a .csv file)\n",
      "\n",
      "Next, let's look at the output of ImageJ's circularity descriptor, as well as the **particle8** plugin[1].   This plugin computes the perimeter and area directly from the pixels, so that a single pixel will have the area and perim. of a square of length 1 and so on."
     ]
    },
    {
     "cell_type": "heading",
     "level": 4,
     "metadata": {},
     "source": [
      "Step 4: Compare to ImageJ Circularity"
     ]
    },
    {
     "cell_type": "markdown",
     "metadata": {},
     "source": [
      "<font color='red'>To read the .csv file, we will use the **pandas** library</font>. \n",
      "http://pandas.pydata.org/"
     ]
    },
    {
     "cell_type": "code",
     "collapsed": false,
     "input": [
      "import pandas as pd \n",
      "\n",
      "# ImageJ Circularity\n",
      "imjdata = pd.read_csv(digdir('imgj.csv'), sep='\\t')\n",
      "imj_circ = np.array(sorted(imjdata['Circ.']))\n",
      "\n",
      "# ImageJ Particle8 Data\n",
      "p8data = pd.read_csv(digdir('particle8.csv'), sep='\\t')\n",
      "p8_perim = np.array(sorted(p8data['Perim']))\n",
      "p8_area = np.array(sorted(p8data['Area']))\n",
      "p8_circ  = circularity(p8_area, p8_perim)"
     ],
     "language": "python",
     "metadata": {},
     "outputs": []
    },
    {
     "cell_type": "code",
     "collapsed": false,
     "input": [
      "circscatt(circ)\n",
      "circscatt(imj_circ, color='g', marker='>')\n",
      "circscatt(p8_circ, color='r', marker='x')\n",
      "\n",
      "plt.ylim(0.65, 1.3)\n",
      "plt.legend(('$4\\pi A/P^2$', 'IMJ Circ.', 'IMJ P8'),\n",
      "           scatterpoints=1, markerscale=2)\n",
      "plt.title(\"C(r) various encodings\")\n",
      "plt.hlines(1, pmin, pmax, lw=2, linestyles='--');\n",
      "\n",
      "#plt.savefig(digdir('circ_imj'));"
     ],
     "language": "python",
     "metadata": {},
     "outputs": []
    },
    {
     "cell_type": "heading",
     "level": 4,
     "metadata": {},
     "source": [
      "Step 5: Histograms of varying magnification (separate nb?)"
     ]
    },
    {
     "cell_type": "markdown",
     "metadata": {},
     "source": [
      "Next, let's take high res. (3072x2048) a thresholded sample of AuNPs which was imaged at 5000x and 30000x, and look at the distribution of particles in the histogram.  This requires doing particle analysis (pyparty API makes this straightforward) and plotting a histogram of diameters overlapping.  ** THIS OPERATION MAY TAKE A WHILE DUE TO SLOWNESS OF PYPARTY LABELS**"
     ]
    },
    {
     "cell_type": "code",
     "collapsed": false,
     "input": [
      "from pyparty.tools.arraytools import slice_by_value\n",
      "from skimage.io import imread\n",
      "from skimage.measure import regionprops\n",
      "from skimage.morphology import label\n",
      "\n",
      "MAG = 6\n",
      "AREA_RANGE = (25, 350)\n",
      "\n",
      "def get_prop(img, attr='area'):\n",
      "    \"\"\" Labels and subsequently returns descriptor from img\"\"\"\n",
      "    lab = label(img)\n",
      "    props = regionprops(lab)\n",
      "    return np.array(sorted([getattr(p, attr) for p in props]))\n",
      "\n",
      "IM5K = imread(digdir('f2_5000_binary.tif')) \n",
      "IM30K = imread(digdir('f2_30000_binary.tif')) \n",
      "\n",
      "AREA_5K = get_prop(IM5K) * MAG**2\n",
      "AREA_30K = get_prop(IM30K)\n",
      "\n",
      "AREA_5K = slice_by_value(AREA_5K, *AREA_RANGE)\n",
      "AREA_30K = slice_by_value(AREA_30K, *AREA_RANGE)\n",
      "\n",
      "histkwds = {'bins':50,\n",
      "            'stacked':True, \n",
      "            'color':['r','b'],\n",
      "            'log':True}\n",
      "\n",
      "labelkwds = {'fontsize':15} #fontname='purisa'\n",
      "\n",
      "plt.hist([AREA_30K, AREA_5K], label=('30000X','5000X'), **histkwds)\n",
      "plt.xlim(AREA_RANGE)\n",
      "plt.minorticks_on()\n",
      "\n",
      "plt.title('Foo bar', **labelkwds)\n",
      "plt.ylabel('Counts (log$_10$)', **labelkwds)\n",
      "plt.xlabel('Area (PX$^2$)', **labelkwds)\n",
      "plt.legend(fancybox=True, **labelkwds);"
     ],
     "language": "python",
     "metadata": {},
     "outputs": []
    },
    {
     "cell_type": "heading",
     "level": 3,
     "metadata": {},
     "source": [
      "References"
     ]
    },
    {
     "cell_type": "markdown",
     "metadata": {},
     "source": [
      "- [1] Landini G. Advanced shape analysis with ImageJ. Second ImageJ user and\n",
      "developer Conference, Luxembourg, 6-7 November, 2008. ISBN 2-919941-06-2\n",
      "Morphology plugins for ImageJ available from:\n",
      "http://www.mecourse.com/landinig/software/software.html"
     ]
    },
    {
     "cell_type": "heading",
     "level": 3,
     "metadata": {},
     "source": [
      "Related"
     ]
    },
    {
     "cell_type": "markdown",
     "metadata": {},
     "source": [
      "- [Louic NB style](http://blog.louic.nl/?p=683)\n",
      "- Matplotlib markers: http://matplotlib.org/api/markers_api.html#module-matplotlib.markers\n",
      "- Pyparty labels: https://github.com/hugadams/pyparty/blob/master/examples/Notebooks/Analyze_Particles.ipynb"
     ]
    },
    {
     "cell_type": "heading",
     "level": 3,
     "metadata": {},
     "source": [
      "Redistribution"
     ]
    },
    {
     "cell_type": "markdown",
     "metadata": {},
     "source": [
      "This notebook is free for redistribution.  If referencing, please cite as:\n",
      "\n",
      "- Hughes, A. (2012). [A Computational Framework for Plasmonic Nanobiosensing](https://www.researchgate.net/publication/236672995_A_Computational_Framework_for_Plasmonic_Nanobiosensing).  Python in Science Conference [SCIPY]. "
     ]
    }
   ],
   "metadata": {}
  }
 ]
}